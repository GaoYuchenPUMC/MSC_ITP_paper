{
 "cells": [
  {
   "cell_type": "code",
   "execution_count": null,
   "id": "a9282135-30f7-4a1e-8595-cba47bc7c638",
   "metadata": {},
   "outputs": [],
   "source": [
    "import loompy as loompy"
   ]
  },
  {
   "cell_type": "code",
   "execution_count": null,
   "id": "a6c1b76f-fc3a-4822-80a7-479622f1abd0",
   "metadata": {},
   "outputs": [],
   "source": [
    "files=['/public/home/gaoyuchen/Velocyto_workflow/LoomFiles/MSC_AD.loom','/public/home/gaoyuchen/Velocyto_workflow/LoomFiles/MSC_AD2.loom','/public/home/gaoyuchen/Velocyto_workflow/LoomFiles/MSC_AD3.loom',\n",
    "       '/public/home/gaoyuchen/Velocyto_workflow/LoomFiles/MSC_BM.loom','/public/home/gaoyuchen/Velocyto_workflow/LoomFiles/MSC_BM2.loom','/public/home/gaoyuchen/Velocyto_workflow/LoomFiles/MSC_BM3.loom',\n",
    "       '/public/home/gaoyuchen/Velocyto_workflow/LoomFiles/MSC_PM.loom','/public/home/gaoyuchen/Velocyto_workflow/LoomFiles/MSC_PM2.loom','/public/home/gaoyuchen/Velocyto_workflow/LoomFiles/MSC_PM3.loom',\n",
    "       '/public/home/gaoyuchen/Velocyto_workflow/LoomFiles/MSC_UC.loom','/public/home/gaoyuchen/Velocyto_workflow/LoomFiles/MSC_UC2.loom','/public/home/gaoyuchen/Velocyto_workflow/LoomFiles/MSC_UC3.loom']"
   ]
  },
  {
   "cell_type": "code",
   "execution_count": null,
   "id": "1ea93999-72ef-430d-bfbe-584d77cc9340",
   "metadata": {},
   "outputs": [],
   "source": [
    "loompy.combine(files,output_file='/public/home/gaoyuchen/Velocyto_workflow/LoomFiles/merged_All_12_MSCsamples.loom',key=\"Accession\")"
   ]
  },
  {
   "cell_type": "code",
   "execution_count": null,
   "id": "ea78e4f8-97b4-4b10-957a-be7533ab7aa9",
   "metadata": {},
   "outputs": [],
   "source": []
  }
 ],
 "metadata": {
  "kernelspec": {
   "display_name": "Python 3 (ipykernel)",
   "language": "python",
   "name": "python3"
  },
  "language_info": {
   "codemirror_mode": {
    "name": "ipython",
    "version": 3
   },
   "file_extension": ".py",
   "mimetype": "text/x-python",
   "name": "python",
   "nbconvert_exporter": "python",
   "pygments_lexer": "ipython3",
   "version": "3.7.0"
  }
 },
 "nbformat": 4,
 "nbformat_minor": 5
}
