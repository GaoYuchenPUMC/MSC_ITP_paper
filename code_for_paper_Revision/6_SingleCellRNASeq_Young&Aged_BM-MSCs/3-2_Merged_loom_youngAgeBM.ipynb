{
 "cells": [
  {
   "cell_type": "code",
   "execution_count": null,
   "id": "5c15d098-df73-4a55-866d-946c1a3f13be",
   "metadata": {},
   "outputs": [],
   "source": [
    "import loompy as loompy"
   ]
  },
  {
   "cell_type": "code",
   "execution_count": null,
   "id": "8b2c9cf5-86ab-4efb-9245-9dd923f89309",
   "metadata": {},
   "outputs": [],
   "source": [
    "files=['/public/home/gaoyuchen/Velocyto_workflow/LoomFiles/Young_BM1.loom','/public/home/gaoyuchen/Velocyto_workflow/LoomFiles/Young_BM2.loom',\n",
    "       '/public/home/gaoyuchen/Velocyto_workflow/LoomFiles/Young_BM3.loom','/public/home/gaoyuchen/Velocyto_workflow/LoomFiles/Young_BM4.loom',\n",
    "      '/public/home/gaoyuchen/Velocyto_workflow/LoomFiles/Aged_BM1.loom','/public/home/gaoyuchen/Velocyto_workflow/LoomFiles/Aged_BM2.loom',\n",
    "      '/public/home/gaoyuchen/Velocyto_workflow/LoomFiles/Aged_BM3.loom','/public/home/gaoyuchen/Velocyto_workflow/LoomFiles/Aged_BM4.loom']"
   ]
  },
  {
   "cell_type": "code",
   "execution_count": null,
   "id": "4465cd00-e1b7-4550-9ee4-4fb052195736",
   "metadata": {},
   "outputs": [],
   "source": [
    "loompy.combine(files,output_file='/data/Single Cell YoungAge BM/Velocyto/merged_BM.loom',key=\"Accession\")"
   ]
  }
 ],
 "metadata": {
  "kernelspec": {
   "display_name": "Python 3 (ipykernel)",
   "language": "python",
   "name": "python3"
  },
  "language_info": {
   "codemirror_mode": {
    "name": "ipython",
    "version": 3
   },
   "file_extension": ".py",
   "mimetype": "text/x-python",
   "name": "python",
   "nbconvert_exporter": "python",
   "pygments_lexer": "ipython3",
   "version": "3.7.0"
  }
 },
 "nbformat": 4,
 "nbformat_minor": 5
}
